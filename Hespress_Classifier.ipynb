{
 "cells": [
  {
   "cell_type": "code",
   "execution_count": 1,
   "id": "6c38c2e9",
   "metadata": {},
   "outputs": [],
   "source": [
    "import pandas as pd\n",
    "from sklearn.utils import shuffle\n",
    "from sklearn import preprocessing\n",
    "from sklearn.svm import LinearSVC\n",
    "from sklearn.metrics import confusion_matrix\n",
    "from sklearn.metrics import classification_report\n",
    "from sklearn.feature_extraction.text import TfidfVectorizer\n",
    "from sklearn.feature_extraction.text import TfidfVectorizer"
   ]
  },
  {
   "cell_type": "code",
   "execution_count": 2,
   "id": "983f7789",
   "metadata": {},
   "outputs": [
    {
     "data": {
      "text/html": [
       "<div>\n",
       "<style scoped>\n",
       "    .dataframe tbody tr th:only-of-type {\n",
       "        vertical-align: middle;\n",
       "    }\n",
       "\n",
       "    .dataframe tbody tr th {\n",
       "        vertical-align: top;\n",
       "    }\n",
       "\n",
       "    .dataframe thead th {\n",
       "        text-align: right;\n",
       "    }\n",
       "</style>\n",
       "<table border=\"1\" class=\"dataframe\">\n",
       "  <thead>\n",
       "    <tr style=\"text-align: right;\">\n",
       "      <th></th>\n",
       "      <th>id</th>\n",
       "      <th>title</th>\n",
       "      <th>date</th>\n",
       "      <th>author</th>\n",
       "      <th>story</th>\n",
       "      <th>topic</th>\n",
       "      <th>story_clean</th>\n",
       "    </tr>\n",
       "  </thead>\n",
       "  <tbody>\n",
       "    <tr>\n",
       "      <th>0</th>\n",
       "      <td>f06aa998054e11eba66e646e69d991ea</td>\n",
       "      <td>\"بيت الشعر\" يسائل وزير الثقافة عن كوابيس سوداء</td>\n",
       "      <td>الجمعة 02 أكتوبر 2020 - 23:19</td>\n",
       "      <td>هسبريس من الرباط</td>\n",
       "      <td>وجه \"بيت الشعر في المغرب\" إلى وزير الثقافة وال...</td>\n",
       "      <td>art-et-culture</td>\n",
       "      <td>وجه بيت الشعر المغرب وزير الثقافة والشباب والر...</td>\n",
       "    </tr>\n",
       "    <tr>\n",
       "      <th>1</th>\n",
       "      <td>f1cf1b9c054e11ebb718646e69d991ea</td>\n",
       "      <td>مهرجان \"سينما المؤلّف\" يستحضر روح ثريا جبران</td>\n",
       "      <td>الجمعة 02 أكتوبر 2020 - 07:26</td>\n",
       "      <td>هسبريس من الرباط</td>\n",
       "      <td>في ظلّ استمرار حالة الطوارئ الصحية المرتبطة بج...</td>\n",
       "      <td>art-et-culture</td>\n",
       "      <td>ظلّ استمرار حالة الطوارئ الصحية المرتبطة بجائح...</td>\n",
       "    </tr>\n",
       "    <tr>\n",
       "      <th>2</th>\n",
       "      <td>f2d282a4054e11eb800f646e69d991ea</td>\n",
       "      <td>فيلم \"بدون عنف\" لهشام العسري ..\"كعب الحذاء ووا...</td>\n",
       "      <td>الجمعة 02 أكتوبر 2020 - 04:00</td>\n",
       "      <td>عفيفة الحسينات*</td>\n",
       "      <td>تشير مشاهدة فيلم قصير ضمن الثلاثية الأخيرة للم...</td>\n",
       "      <td>art-et-culture</td>\n",
       "      <td>تشير مشاهدة فيلم قصير الثلاثية الأخيرة للمخرج ...</td>\n",
       "    </tr>\n",
       "    <tr>\n",
       "      <th>3</th>\n",
       "      <td>f3f46cac054e11eba403646e69d991ea</td>\n",
       "      <td>\"تنين ووهان\" .. مريم أيت أحمد توقِّع أولى \"روا...</td>\n",
       "      <td>الجمعة 02 أكتوبر 2020 - 02:00</td>\n",
       "      <td>حاورَها: وائل بورشاشن</td>\n",
       "      <td>مِن قَلب أيّام \"الحَجْر\"، رأتِ النّورَ الفصول ...</td>\n",
       "      <td>art-et-culture</td>\n",
       "      <td>مِن قَلب أيّام الحَجْر رأتِ النّورَ الفصول الأ...</td>\n",
       "    </tr>\n",
       "    <tr>\n",
       "      <th>4</th>\n",
       "      <td>f50f0476054e11eba31b646e69d991ea</td>\n",
       "      <td>مسكر يتخلّى عن دعم \"الوزارة\" بسبب \"الجمهور\"</td>\n",
       "      <td>الخميس 01 أكتوبر 2020 - 19:40</td>\n",
       "      <td>هسبريس من الرباط</td>\n",
       "      <td>أعلن الفنان المغربيّ سعيد مسكر تخليه عن مبلغ ا...</td>\n",
       "      <td>art-et-culture</td>\n",
       "      <td>أعلن الفنان المغربيّ سعيد مسكر تخليه مبلغ الدّ...</td>\n",
       "    </tr>\n",
       "  </tbody>\n",
       "</table>\n",
       "</div>"
      ],
      "text/plain": [
       "                                 id  \\\n",
       "0  f06aa998054e11eba66e646e69d991ea   \n",
       "1  f1cf1b9c054e11ebb718646e69d991ea   \n",
       "2  f2d282a4054e11eb800f646e69d991ea   \n",
       "3  f3f46cac054e11eba403646e69d991ea   \n",
       "4  f50f0476054e11eba31b646e69d991ea   \n",
       "\n",
       "                                               title  \\\n",
       "0     \"بيت الشعر\" يسائل وزير الثقافة عن كوابيس سوداء   \n",
       "1       مهرجان \"سينما المؤلّف\" يستحضر روح ثريا جبران   \n",
       "2  فيلم \"بدون عنف\" لهشام العسري ..\"كعب الحذاء ووا...   \n",
       "3  \"تنين ووهان\" .. مريم أيت أحمد توقِّع أولى \"روا...   \n",
       "4        مسكر يتخلّى عن دعم \"الوزارة\" بسبب \"الجمهور\"   \n",
       "\n",
       "                            date                 author  \\\n",
       "0  الجمعة 02 أكتوبر 2020 - 23:19       هسبريس من الرباط   \n",
       "1  الجمعة 02 أكتوبر 2020 - 07:26       هسبريس من الرباط   \n",
       "2  الجمعة 02 أكتوبر 2020 - 04:00        عفيفة الحسينات*   \n",
       "3  الجمعة 02 أكتوبر 2020 - 02:00  حاورَها: وائل بورشاشن   \n",
       "4  الخميس 01 أكتوبر 2020 - 19:40       هسبريس من الرباط   \n",
       "\n",
       "                                               story           topic  \\\n",
       "0  وجه \"بيت الشعر في المغرب\" إلى وزير الثقافة وال...  art-et-culture   \n",
       "1  في ظلّ استمرار حالة الطوارئ الصحية المرتبطة بج...  art-et-culture   \n",
       "2  تشير مشاهدة فيلم قصير ضمن الثلاثية الأخيرة للم...  art-et-culture   \n",
       "3  مِن قَلب أيّام \"الحَجْر\"، رأتِ النّورَ الفصول ...  art-et-culture   \n",
       "4  أعلن الفنان المغربيّ سعيد مسكر تخليه عن مبلغ ا...  art-et-culture   \n",
       "\n",
       "                                         story_clean  \n",
       "0  وجه بيت الشعر المغرب وزير الثقافة والشباب والر...  \n",
       "1  ظلّ استمرار حالة الطوارئ الصحية المرتبطة بجائح...  \n",
       "2  تشير مشاهدة فيلم قصير الثلاثية الأخيرة للمخرج ...  \n",
       "3  مِن قَلب أيّام الحَجْر رأتِ النّورَ الفصول الأ...  \n",
       "4  أعلن الفنان المغربيّ سعيد مسكر تخليه مبلغ الدّ...  "
      ]
     },
     "execution_count": 2,
     "metadata": {},
     "output_type": "execute_result"
    }
   ],
   "source": [
    "stories = pd.read_csv(\"all_stories.csv\", encoding='utf8',  index_col=[0])\n",
    "stories.head()"
   ]
  },
  {
   "cell_type": "code",
   "execution_count": 3,
   "id": "dcff3611",
   "metadata": {},
   "outputs": [
    {
     "data": {
      "text/plain": [
       "array([ 0,  1,  2,  3,  4,  5,  6,  7,  8,  9, 10])"
      ]
     },
     "execution_count": 3,
     "metadata": {},
     "output_type": "execute_result"
    }
   ],
   "source": [
    "label_encoder = preprocessing.LabelEncoder()\n",
    "stories['topic_encoded'] = label_encoder.fit_transform(stories['topic'])\n",
    "  \n",
    "stories['topic_encoded'].unique()"
   ]
  },
  {
   "cell_type": "code",
   "execution_count": 4,
   "id": "0abb2886",
   "metadata": {},
   "outputs": [
    {
     "data": {
      "text/plain": [
       "{'art-et-culture': 0,\n",
       " 'economie': 1,\n",
       " 'faits-divers': 2,\n",
       " 'marocains-du-monde': 3,\n",
       " 'medias': 4,\n",
       " 'orbites': 5,\n",
       " 'politique': 6,\n",
       " 'regions': 7,\n",
       " 'societe': 8,\n",
       " 'sport': 9,\n",
       " 'tamazight': 10}"
      ]
     },
     "execution_count": 4,
     "metadata": {},
     "output_type": "execute_result"
    }
   ],
   "source": [
    "dict(zip(label_encoder.classes_, label_encoder.transform(label_encoder.classes_)))"
   ]
  },
  {
   "cell_type": "code",
   "execution_count": 5,
   "id": "58243aae",
   "metadata": {},
   "outputs": [],
   "source": [
    "stories = stories[['story_clean', 'topic_encoded']]"
   ]
  },
  {
   "cell_type": "code",
   "execution_count": 6,
   "id": "7a977bcf",
   "metadata": {},
   "outputs": [
    {
     "name": "stdout",
     "output_type": "stream",
     "text": [
      "8800 8800\n",
      "2200 2200\n"
     ]
    }
   ],
   "source": [
    "df_shuffled = shuffle(stories, random_state=20)\n",
    "grouped_data = df_shuffled.groupby('topic_encoded')\n",
    "\n",
    "appended_train_data = []\n",
    "appended_test_data = []\n",
    "\n",
    "# Iterate over each topic\n",
    "for topic, data_group in grouped_data:\n",
    "    split_index = int(len(data_group) * 0.8)\n",
    "    \n",
    "    train_group = data_group.iloc[:split_index]\n",
    "    test_group = data_group.iloc[split_index:]\n",
    "    \n",
    "    appended_train_data.append(train_group)\n",
    "    appended_test_data.append(test_group)\n",
    "\n",
    "train_data = pd.concat(appended_train_data)\n",
    "test_data = pd.concat(appended_test_data)\n",
    "\n",
    "train_data = shuffle(train_data, random_state=20)\n",
    "X_train, y_train, X_test, y_test = train_data['story_clean'], train_data['topic_encoded'],test_data['story_clean'], test_data['topic_encoded']\n",
    "\n",
    "\n",
    "print(len(X_train), len(y_train))\n",
    "print(len(X_test), len(y_test))"
   ]
  },
  {
   "cell_type": "code",
   "execution_count": 7,
   "id": "154e972c",
   "metadata": {},
   "outputs": [],
   "source": [
    "# Vectorize the stories\n",
    "tfvec= TfidfVectorizer()\n",
    "\n",
    "tf_X_train = tfvec.fit_transform(X_train)\n",
    "tf_X_test = tfvec.transform(X_test)"
   ]
  },
  {
   "cell_type": "code",
   "execution_count": 8,
   "id": "fe8348b5",
   "metadata": {},
   "outputs": [
    {
     "name": "stdout",
     "output_type": "stream",
     "text": [
      "              precision    recall  f1-score   support\n",
      "\n",
      "           0       0.84      0.89      0.86       200\n",
      "           1       0.82      0.89      0.85       200\n",
      "           2       0.93      0.93      0.93       200\n",
      "           3       0.87      0.88      0.88       200\n",
      "           4       0.95      0.92      0.93       200\n",
      "           5       0.66      0.66      0.66       200\n",
      "           6       0.78      0.73      0.76       200\n",
      "           7       0.82      0.82      0.82       200\n",
      "           8       0.75      0.73      0.74       200\n",
      "           9       0.97      0.98      0.98       200\n",
      "          10       0.95      0.94      0.95       200\n",
      "\n",
      "    accuracy                           0.85      2200\n",
      "   macro avg       0.85      0.85      0.85      2200\n",
      "weighted avg       0.85      0.85      0.85      2200\n",
      "\n"
     ]
    }
   ],
   "source": [
    "svc = LinearSVC(random_state=42)\n",
    "svc.fit(tf_X_train,y_train)\n",
    "\n",
    "y_pred_svc = svc.predict(tf_X_test)\n",
    "print(classification_report(y_test, y_pred_svc))"
   ]
  },
  {
   "cell_type": "markdown",
   "id": "41d2a9ae",
   "metadata": {},
   "source": [
    "Precision: Precision is the ratio of true positives to the total number of positive predictions.\n",
    "\n",
    "Recall: Recall is the ratio of true positives to the total number of actual positive cases. \n",
    "\n",
    "F1-score: The F1-score is the harmonic mean of precision and recall. It is a way to balance precision and recall. A high F1-score means that the classifier has both high precision and high recall for a given class.\n",
    "\n",
    "Support: The number of samples in the test set that belong to each class.\n",
    "\n",
    "Accuracy: The overall proportion of correct predictions made by the classifier over all classes. It is calculated as the ratio of the number of correct predictions to the total number of predictions.\n",
    "\n",
    "Macro-average: The macro-average is the average of the precision, recall, and F1-score over all classes. It gives equal weight to each class, regardless of their distribution.\n",
    "\n",
    "Weighted-average: The weighted-average is the average of the precision, recall, and F1-score over all classes, weighted by the number of samples in each class. It gives more weight to classes with more samples, and is useful when the classes are imbalanced."
   ]
  },
  {
   "cell_type": "markdown",
   "id": "6b352b82",
   "metadata": {},
   "source": [
    "##### Future Steps to improve the modelling:\n",
    "###### use LSTM and MLP Neural Nets\n",
    "###### take more feature .\n"
   ]
  },
  {
   "cell_type": "code",
   "execution_count": null,
   "id": "2c6e981d",
   "metadata": {},
   "outputs": [],
   "source": []
  }
 ],
 "metadata": {
  "kernelspec": {
   "display_name": "Python 3 (ipykernel)",
   "language": "python",
   "name": "python3"
  },
  "language_info": {
   "codemirror_mode": {
    "name": "ipython",
    "version": 3
   },
   "file_extension": ".py",
   "mimetype": "text/x-python",
   "name": "python",
   "nbconvert_exporter": "python",
   "pygments_lexer": "ipython3",
   "version": "3.9.12"
  }
 },
 "nbformat": 4,
 "nbformat_minor": 5
}
